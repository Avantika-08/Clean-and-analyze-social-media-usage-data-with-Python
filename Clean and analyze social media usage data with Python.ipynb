#Importing the libraries 
import pandas as pd
import numpy as np
import matplotlib.pyplot as plt
import seaborn as sns
import random

#Defining the list of categories
categories = ['Food', 'Travel', 'Fashion', 'Fitness',
              'Music', 'Culture', 'Family', 'Health']

#Random no. of entries
n = 1000

data = {
    'Date': pd.date_range(start='2020-01-01', periods=n),
    'Category': [random.choice(categories)for _ in range(n)],
    'Likes': np.random.randint(0, 10000, size=n)
}

#Converting data dictionary to a pandas dataframe
df = pd.DataFrame(data)
print(df.head())
print(df.info())
print(df.describe())


# to count each unique element in 'Category'
category_counts = df['Category'].value_counts()
print(category_counts)

#Cleaning of data- removing null and duplicate values
df.dropna(inplace=True)
df.drop_duplicates(inplace=True)

#Converting date into datetime format
df['Date'] = pd.to_datetime(df['Date'])

#Converting 'Likes' column to integer
df['Likes'] = df['Likes'].astype(int)
print(df)

#Visualising the data
sns.histplot(data=df, x='Likes')
plt.title("Histogram of likes")
plt.xlabel('Likes')
plt.ylabel('Frequency')
plt.show()

sns.boxplot(data=df, x='Category', y='Likes')
plt.title('Boxplot of Likes by Category')
plt.xticks(rotation=45)
plt.show()

#Statistics
mean_likes = df['Likes'].mean()
print(f"Mean Likes: {mean_likes: .2f}")
category_mean_likes = df.groupby('Category')['Likes'].mean()
print("\nMean Likes by Category:")
print(category_mean_likes)
